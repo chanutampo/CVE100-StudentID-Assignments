{
 "cells": [
  {
   "cell_type": "markdown",
   "id": "7e5c977b",
   "metadata": {},
   "source": [
    "# Even and Odd\n",
    "iterate for loop from number 1 to n:\n",
    "if the number is even , print \"[number] is even\"\n",
    "otherwise, print \"[number] is odd :\n",
    "\n",
    "if n = 5 ==> expected output\n",
    "0 is even.\n",
    "1 is odd.\n",
    "2 is even.\n",
    "3 is odd.\n",
    "4 is even.\n",
    "\n"
   ]
  },
  {
   "cell_type": "code",
   "execution_count": 3,
   "id": "4f253e25",
   "metadata": {},
   "outputs": [
    {
     "name": "stdout",
     "output_type": "stream",
     "text": [
      "0 is even\n",
      "1 is odd\n"
     ]
    }
   ],
   "source": [
    "for i in range (0,2):\n",
    "    if i%2 ==0 :\n",
    "        print (i,\"is even\")\n",
    "    else :\n",
    "        print (i,\"is odd\")"
   ]
  },
  {
   "cell_type": "markdown",
   "id": "1ccd4d3c",
   "metadata": {},
   "source": [
    "Multiplication\n",
    "- define n (n = 5)\n",
    "- Use a loop from 1 to 10 (the values of i is to 10 )\n",
    "- if the result of multiplication (num*i) is greater than 50 => print (\"the result is large\")\n",
    "- otherwise, print the actual result ==> print (\"Result=\",result)"
   ]
  },
  {
   "cell_type": "code",
   "execution_count": 4,
   "id": "56226e61",
   "metadata": {},
   "outputs": [
    {
     "name": "stdout",
     "output_type": "stream",
     "text": [
      "Result = 5\n",
      "Result = 10\n",
      "Result = 15\n",
      "Result = 20\n"
     ]
    }
   ],
   "source": [
    "n = 5\n",
    "for i in range (1,n):\n",
    "    result = n*i\n",
    "    if result > 50 :\n",
    "        print (\"the result is large\")\n",
    "    else :\n",
    "        print (\"Result =\",result)"
   ]
  },
  {
   "cell_type": "markdown",
   "id": "f1b2c788",
   "metadata": {},
   "source": [
    "Skipping the special numbers \n",
    "\n",
    "define n\n",
    "loop numbers from 1 to n \n",
    "if the number is divisible 4 ==> skip it with continue\n",
    "if the number is greater than 20 ==> stop the loop with break\n",
    "otherwise - - > print the number"
   ]
  },
  {
   "cell_type": "code",
   "execution_count": 5,
   "id": "974b21ea",
   "metadata": {},
   "outputs": [
    {
     "name": "stdout",
     "output_type": "stream",
     "text": [
      "1\n",
      "2\n",
      "3\n",
      "5\n",
      "6\n",
      "7\n",
      "9\n"
     ]
    }
   ],
   "source": [
    "n = 10\n",
    "for i in range (1,n):\n",
    "    if i%4 == 0:\n",
    "        continue\n",
    "    if i > 20:\n",
    "        break\n",
    "    print (i)\n",
    "\n",
    "\n"
   ]
  },
  {
   "cell_type": "markdown",
   "id": "da6a09ce",
   "metadata": {},
   "source": [
    "guess the number \n",
    "the secret number is 777\n",
    "- ask the user to guess untill they get it right.\n",
    "- if the guess is wrong, print \"try agian\".\n",
    " -if the guess is correct print \"you got it\" and stop the loop."
   ]
  },
  {
   "cell_type": "code",
   "execution_count": 1,
   "id": "194f8824",
   "metadata": {},
   "outputs": [
    {
     "name": "stdout",
     "output_type": "stream",
     "text": [
      "try again\n",
      "try again\n",
      "you got it\n"
     ]
    }
   ],
   "source": [
    "guess = int(input(\"Guess three digit lucky nu8mber from 000 to 999\"))\n",
    "n = 777\n",
    "while guess != n:\n",
    "    print (\"try again\")\n",
    "    guess = int(input(\"Guess three digit lucky nu8mber from 000 to 999\"))\n",
    "else :\n",
    "    print (\"you got it\")"
   ]
  },
  {
   "cell_type": "markdown",
   "id": "2a22983f",
   "metadata": {},
   "source": [
    "Shopping Cart CHeckout System\n",
    "Use initial variable total_bill=0\n",
    "Ask user to add price and the price to total bill.\n",
    "If total_bill>1000, print (\"limit reached. You cannot buy anymore\"and break the loop)\n",
    "Otherwise, ask user to add price"
   ]
  },
  {
   "cell_type": "code",
   "execution_count": 10,
   "id": "53356c3b",
   "metadata": {},
   "outputs": [
    {
     "name": "stdout",
     "output_type": "stream",
     "text": [
      "add more\n",
      "add more\n",
      "limit reached. You cannot buy anymore\n"
     ]
    }
   ],
   "source": [
    "total_bill = 0 \n",
    "while total_bill < 1000:\n",
    "    add = int(input(\"price\"))\n",
    "    total_bill = total_bill + add\n",
    "    print (\"add more\")\n",
    "else :\n",
    "    print (\"limit reached. You cannot buy anymore\")\n"
   ]
  }
 ],
 "metadata": {
  "kernelspec": {
   "display_name": "Python 3",
   "language": "python",
   "name": "python3"
  },
  "language_info": {
   "codemirror_mode": {
    "name": "ipython",
    "version": 3
   },
   "file_extension": ".py",
   "mimetype": "text/x-python",
   "name": "python",
   "nbconvert_exporter": "python",
   "pygments_lexer": "ipython3",
   "version": "3.12.6"
  }
 },
 "nbformat": 4,
 "nbformat_minor": 5
}
