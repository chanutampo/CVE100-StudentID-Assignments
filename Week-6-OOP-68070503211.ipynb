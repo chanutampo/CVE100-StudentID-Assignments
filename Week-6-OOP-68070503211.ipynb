{
 "cells": [
  {
   "cell_type": "code",
   "execution_count": null,
   "id": "a8ab4bf2",
   "metadata": {},
   "outputs": [],
   "source": []
  },
  {
   "cell_type": "markdown",
   "id": "a9447789",
   "metadata": {},
   "source": [
    "Question 5 — (25 marks)\n",
    "You are asked to design a simple Car Rental System using classes and objects.\n",
    "Steps:\n",
    "1. Define a class named Car. (2 marks)\n",
    "2. Add an initializer (__init__) method with three attributes: (3 marks)\n",
    "o model (string)\n",
    "o rent_per_day (float)\n",
    "o available (boolean, default value = True)\n",
    "3. Add a method rent(days) that: (4 marks)\n",
    "o If available is True, set it to False, calculate total cost (rent_per_day × days),\n",
    "and print \"Car rented. Total cost = \" with the cost.\n",
    "o Otherwise, print \"Car not available\"\n",
    "4. Add a method return_car() that: (4 marks)\n",
    "o Sets available to True\n",
    "o Prints \"Car returned\"\n",
    "5. Add a method display() that prints the car model, rent per day, and availability status.\n",
    "(3 marks)\n",
    "6. In the main program: (9 marks)\n",
    "o Create an object for Car with a model and rent per day. (2 marks)\n",
    "o Call the rent method for 5 days. (2 marks)\n",
    "o Call the display method. (2 marks)\n",
    "o Call the return_car method and display the car info again. (3 marks)"
   ]
  },
  {
   "cell_type": "code",
   "execution_count": 16,
   "id": "6d81e937",
   "metadata": {},
   "outputs": [
    {
     "name": "stdout",
     "output_type": "stream",
     "text": [
      "Car rented. Total cost =  7000\n"
     ]
    }
   ],
   "source": [
    "class Car :\n",
    "    def __init__(self, model, rent_per_day, available):\n",
    "        self.model = model\n",
    "        self.rent_per_day = rent_per_day\n",
    "        self.available = True\n",
    "    def rent(self,days) :\n",
    "        if self.available :\n",
    "            self.available = False\n",
    "            total_cost = self.rent_per_day*days\n",
    "            print(\"Car rented. Total cost = \", total_cost)\n",
    "        else :\n",
    "            print(\"Car not available\")\n",
    "    def return_car(self) :\n",
    "        self.available = True\n",
    "        print(\"Car returned\")\n",
    "    def display(self) :\n",
    "        status = \"avialable\" if self.avialable else \"Not avialable\"\n",
    "        print(f\"model : {self.model}\")\n",
    "        print(f\"rent_per_day: {self.rent_per_day: .2f}\")\n",
    "        print(f\"avialable: {status}\")\n",
    "Car1=Car(\"Toyota\",1000,True)\n",
    "Car1.rent(7)"
   ]
  },
  {
   "cell_type": "markdown",
   "id": "e463e76c",
   "metadata": {},
   "source": [
    "Step 1 Parent Class - Person\n",
    "1. Define a class \"Person\",\n",
    "2. Add __init__(self, name, age) and store those values on the object.\n",
    "3. Add a method display_info (self) that prints:\n",
    "    Name: <name>, Age: <age>\n",
    "\n",
    "Step 2: Child class - Student\n",
    "1. Define a class \"Student\" that inherits from \"Person\".\n",
    "2. Add __init__ function with super() to inherit the attributes from parent class.\n",
    "3. Add a new attribute \"marks\" and set it to an empty dictionary {}:\n",
    "    e.g., {\"Math\": 85}\n",
    "\n",
    "4. Implement add_mark (self, subject, score) function inside the Student class:\n",
    "    add or update the score in the marks dict.\n",
    "   \tif the subject does not exist in the mark dictionary, add new subject    and score to the dictionary\n",
    "        otherwise, update the score of the existing subject. \n",
    "    print a confirmation message like \"Added Science = 85\" or \"Updated Math = 90\"\n",
    "5. Implement display_marks(self) function.\n",
    "6. Implement average(self):\n",
    "    If no marks. return 0\n",
    "    otherwise, return the average (sumof scores / number of subjects)\n",
    "\n",
    "Step 3: Main Program\n",
    "1. Create one Student with name and age.\n",
    "2. Call display_info()\n",
    "3. Add at least two subject makrs\n",
    "4. Call display_marks()\n",
    "5. Print the average score the student.\n"
   ]
  },
  {
   "cell_type": "code",
   "execution_count": null,
   "id": "be048db8",
   "metadata": {},
   "outputs": [],
   "source": [
    "class Person :\n",
    "    def __init__(self, name, age) :\n",
    "        self.name = name\n",
    "        self.age = age\n",
    "    def display_info(self) :\n",
    "        print(f\"name : {self.name}, age: {self.age}\")\n",
    "class student (Person) :\n",
    "    def __init__(self, name, age) :\n",
    "        super().__init__(name, age)\n",
    "        self.marks = {}\n",
    "    def add_mark(self, subject, score) :\n",
    "        if subject in self.marks :\n",
    "            print(f\"updated {subject} = {score}\")\n",
    "        else :\n",
    "            print(f\"updated {subject} = {score}\")\n",
    "        self.marks[subject] = score\n",
    "    def display_info(self) :\n",
    "        if not self.marks :\n",
    "            print(\"No marks available\")\n",
    "        else : \n",
    "            print(f\"marks : {self.marks}\")\n",
    "            for subject, score in self.marks.items() :\n",
    "                print(f\"{subject} : {score}\")\n",
    "    def average_mark(self) :\n",
    "        if not self.marks :\n",
    "            return 0\n",
    "        return sum(self.marks.values())/len(self.marks)\n"
   ]
  }
 ],
 "metadata": {
  "kernelspec": {
   "display_name": "Python 3",
   "language": "python",
   "name": "python3"
  },
  "language_info": {
   "codemirror_mode": {
    "name": "ipython",
    "version": 3
   },
   "file_extension": ".py",
   "mimetype": "text/x-python",
   "name": "python",
   "nbconvert_exporter": "python",
   "pygments_lexer": "ipython3",
   "version": "3.12.6"
  }
 },
 "nbformat": 4,
 "nbformat_minor": 5
}
