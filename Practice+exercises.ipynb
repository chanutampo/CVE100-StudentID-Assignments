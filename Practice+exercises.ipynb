{
 "cells": [
  {
   "cell_type": "markdown",
   "id": "186222d0",
   "metadata": {},
   "source": [
    "Exercise 1\n",
    "\n",
    "Write a function to report the weather condition. \n",
    "Input ==> Temperature ('C)\n",
    "\n",
    "IF the temperature is below 0, print \"Freezing Cold\"\n",
    "IF the temperature is 0-20, print \"Cold Weather\"\n",
    "IF the temperature is 21-30, print \" Warm Weather\"\n",
    "Otherwise, print \"Hot Weather\""
   ]
  },
  {
   "cell_type": "code",
   "execution_count": null,
   "id": "4bbb422e",
   "metadata": {},
   "outputs": [],
   "source": [
    "def weather_report(temp: float):\n",
    "    if temp < 0:\n",
    "        print(\"Freezing cold\")\n",
    "    elif temp <= 20:\n",
    "        print(\"Cold Weather\")\n",
    "    elif temp <= 30:\n",
    "        print(\"Warm Weather\")\n",
    "    else:\n",
    "        print(\"Hot Weather\")\n",
    "temperature = float(input(\"what is the weather\"))\n",
    "weather_report(temperature)"
   ]
  },
  {
   "cell_type": "markdown",
   "id": "36f44c18",
   "metadata": {},
   "source": [
    "Exercise 2\n",
    "\n",
    "Write a function that takes an integer as an input score\n",
    "\n",
    "If the score is greater than or equal to 50, print \"Pass\"\n",
    "If the score is greater than or equal to 75, print \"Good\"\n",
    "If the score is exactly 100, print \"Perfect\"\n",
    "\n",
    "Since these are multiple independent conditions, more than one message print"
   ]
  },
  {
   "cell_type": "code",
   "execution_count": null,
   "id": "b3971fd8",
   "metadata": {},
   "outputs": [],
   "source": [
    "def get_score(score: float):\n",
    "    if score >= 50:\n",
    "        print (\"Pass\")\n",
    "    elif score <= 50:\n",
    "        print(\"Don't pass\")\n",
    "    if score >= 75:\n",
    "        print (\"Good\")\n",
    "    if score == 100:\n",
    "        print(\"Perfect\")\n",
    "get_score(50)"
   ]
  },
  {
   "cell_type": "markdown",
   "id": "5c1b906e",
   "metadata": {},
   "source": [
    "Exercise 3\n",
    "\n",
    "Write a program that returns the count of vowels in the string. Use a for loop to go through each character in the string.\n",
    "\n",
    "Input ==> apple, Output ==> 2\n",
    "\n",
    "Input ==> Hello World, Output => 3\n",
    "\n",
    "Input ==> balloon, Output ==> 3"
   ]
  },
  {
   "cell_type": "code",
   "execution_count": null,
   "id": "64239a6d",
   "metadata": {},
   "outputs": [],
   "source": [
    "def count_vowels(st: str):\n",
    "    vowels = 'aeiouAEIOU'\n",
    "    count = 0\n",
    "    for ch in st:\n",
    "        if ch in vowels:\n",
    "            count += 1\n",
    "    return count\n",
    "\n",
    "print(count_vowels(\"Apple\"))"
   ]
  }
 ],
 "metadata": {
  "language_info": {
   "name": "python"
  }
 },
 "nbformat": 4,
 "nbformat_minor": 5
}
